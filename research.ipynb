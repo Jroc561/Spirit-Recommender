{
 "cells": [
  {
   "cell_type": "code",
   "execution_count": 1,
   "metadata": {},
   "outputs": [],
   "source": [
    "import pandas as pd\n",
    "import requests\n",
    "from bs4 import BeautifulSoup\n",
    "from time import sleep\n",
    "from random import randint\n",
    "from tqdm import tqdm"
   ]
  },
  {
   "cell_type": "code",
   "execution_count": 8,
   "metadata": {},
   "outputs": [
    {
     "name": "stderr",
     "output_type": "stream",
     "text": [
      "100%|██████████| 448/448 [13:22<00:00,  1.79s/it]\n"
     ]
    }
   ],
   "source": [
    "\"\"\"\n",
    "To collect all the spirit names to create URL for the spirit data. Should only have to run once\n",
    "\n",
    "\n",
    "spirit_list = [] #create list of spirit names for url completion later \n",
    "\n",
    "for i in tqdm(range(2,450,1)): #pages 2 through 450\n",
    "    url = 'https://distiller.com/search?page=' + str(i)\n",
    "    response = requests.get(url)\n",
    "    sleep(0.5) #sleep not to upset the website\n",
    "    soup = BeautifulSoup(response.text, \"html5lib\")\n",
    "    for spirit in soup.findAll('div', attrs={\"class\":\"name\"}):\n",
    "        spirit = spirit.text.strip()\n",
    "        spirit_list.append(spirit)\n",
    "\n",
    "foo = pd.DataFrame(spirit_list)\n",
    "foo.drop_duplicates()\n",
    "foo.to_csv('spirit_list.csv')\n",
    "\"\"\""
   ]
  },
  {
   "cell_type": "code",
   "execution_count": 2,
   "metadata": {},
   "outputs": [],
   "source": [
    "# Spirit list is the list of spirits listed on the distiler website\n",
    "spirit_list = pd.read_csv('spirit_list.csv', index_col=0)\n",
    "spirit_list = spirit_list['0'].tolist()"
   ]
  },
  {
   "cell_type": "code",
   "execution_count": 44,
   "metadata": {},
   "outputs": [
    {
     "output_type": "execute_result",
     "data": {
      "text/plain": [
       "22400"
      ]
     },
     "metadata": {},
     "execution_count": 44
    }
   ],
   "source": [
    "len(spirit_list)"
   ]
  },
  {
   "cell_type": "code",
   "execution_count": 40,
   "metadata": {},
   "outputs": [],
   "source": [
    "spirit_list = [x.lower() for x in spirit_list]\n",
    "spirit_list = [x.replace(' ', '-') for x in spirit_list]\n",
    "spirit_list = [x.replace(\"'\", '-') for x in spirit_list]\n",
    "spirit_list = [x.replace('--', '-') for x in spirit_list]\n",
    "spirit_list = [x.replace('.', '') for x in spirit_list]\n",
    "spirit_list = [x.replace(\"(\", '') for x in spirit_list]\n",
    "spirit_list = [x.replace(\")\", '') for x in spirit_list]\n",
    "spirit_list = [x.replace(':', '') for x in spirit_list]\n",
    "spirit_list = [x.replace('ñ', 'n') for x in spirit_list]\n",
    "spirit_list = [x.replace('ç', 'c') for x in spirit_list]\n",
    "spirit_list = [x.replace('ó', 'o') for x in spirit_list]\n",
    "spirit_list = [x.replace('ö', 'o') for x in spirit_list]\n",
    "spirit_list = [x.replace('é', 'e') for x in spirit_list]\n",
    "spirit_list = [x.replace('/', '-') for x in spirit_list]\n",
    "spirit_list = [x.replace('á', 'a') for x in spirit_list]\n",
    "spirit_list = [x.replace('#', '') for x in spirit_list]\n",
    "spirit_list = [x.replace('ę', 'e') for x in spirit_list]\n",
    "spirit_list = [x.replace('ż', 'z') for x in spirit_list]\n",
    "spirit_list = [x.replace('ż', 'z') for x in spirit_list]\n",
    "spirit_list = [x.replace('ê', 'e') for x in spirit_list]\n",
    "spirit_list = [x.replace('ê', 'e') for x in spirit_list]\n",
    "spirit_list = [x.replace('%', '') for x in spirit_list]\n",
    "spirit_list = [x.replace(\"’\", '-') for x in spirit_list]\n",
    "spirit_list = [x.replace(',', '') for x in spirit_list]"
   ]
  },
  {
   "cell_type": "code",
   "execution_count": 25,
   "metadata": {},
   "outputs": [
    {
     "output_type": "stream",
     "name": "stderr",
     "text": [
      "100%|██████████| 22400/22400 [5:53:43<00:00,  1.06it/s]\n"
     ]
    }
   ],
   "source": [
    "name = []\n",
    "site = []\n",
    "headline = []\n",
    "description = []\n",
    "reviews = []\n",
    "tasting = []\n",
    "\n",
    "for item in tqdm(spirit_list):\n",
    "    url = 'https://distiller.com/spirits/' + str(item)\n",
    "    response = requests.get(url)\n",
    "    sleep(0.4) #sleep not to upset the website\n",
    "    soup = BeautifulSoup(response.text, \"lxml\")\n",
    "    #name.append(item)\n",
    "    for title in soup.findAll('div', attrs={\"class\":\"vitals\"}):\n",
    "            title = title.get_text(strip=True)\n",
    "            headline.append(title)\n",
    "            name.append(item)\n",
    "            site.append(url)\n",
    "    for review in soup.findAll('div', attrs={\"class\":\"only-big\"}):\n",
    "            review = review.get_text(strip=True)\n",
    "            description.append(review + \" \")\n",
    "    for details in soup.findAll('div', attrs={\"class\":\"other-details-container\"}):\n",
    "            details = details.get_text(strip=True)\n",
    "            reviews.append(details)\n",
    "    for notes in soup.findAll('div', attrs={\"class\":\"content\"}):\n",
    "            notes = notes.get_text(strip=True)\n",
    "            tasting.append(notes)\n"
   ]
  },
  {
   "cell_type": "code",
   "execution_count": 32,
   "metadata": {},
   "outputs": [
    {
     "output_type": "execute_result",
     "data": {
      "text/plain": [
       "3924"
      ]
     },
     "metadata": {},
     "execution_count": 32
    }
   ],
   "source": [
    "len(tasting)"
   ]
  },
  {
   "cell_type": "code",
   "execution_count": 26,
   "metadata": {},
   "outputs": [
    {
     "output_type": "error",
     "ename": "ValueError",
     "evalue": "arrays must all be same length",
     "traceback": [
      "\u001b[1;31m---------------------------------------------------------------------------\u001b[0m",
      "\u001b[1;31mValueError\u001b[0m                                Traceback (most recent call last)",
      "\u001b[1;32m<ipython-input-26-be6002af6f57>\u001b[0m in \u001b[0;36m<module>\u001b[1;34m\u001b[0m\n\u001b[1;32m----> 1\u001b[1;33m \u001b[0mdatabase\u001b[0m \u001b[1;33m=\u001b[0m \u001b[0mpd\u001b[0m\u001b[1;33m.\u001b[0m\u001b[0mDataFrame\u001b[0m\u001b[1;33m(\u001b[0m\u001b[1;33m{\u001b[0m\u001b[1;34m'name'\u001b[0m\u001b[1;33m:\u001b[0m\u001b[0mname\u001b[0m\u001b[1;33m,\u001b[0m \u001b[1;34m'site'\u001b[0m\u001b[1;33m:\u001b[0m\u001b[0msite\u001b[0m\u001b[1;33m,\u001b[0m \u001b[1;34m'title'\u001b[0m\u001b[1;33m:\u001b[0m\u001b[0mheadline\u001b[0m\u001b[1;33m,\u001b[0m \u001b[1;34m'description'\u001b[0m\u001b[1;33m:\u001b[0m\u001b[0mdescription\u001b[0m\u001b[1;33m,\u001b[0m \u001b[1;34m'reviews'\u001b[0m\u001b[1;33m:\u001b[0m\u001b[0mreviews\u001b[0m\u001b[1;33m,\u001b[0m \u001b[1;34m'tasting'\u001b[0m\u001b[1;33m:\u001b[0m\u001b[0mtasting\u001b[0m\u001b[1;33m}\u001b[0m\u001b[1;33m)\u001b[0m\u001b[1;33m\u001b[0m\u001b[1;33m\u001b[0m\u001b[0m\n\u001b[0m\u001b[0;32m      2\u001b[0m \u001b[0mdatabase\u001b[0m\u001b[1;33m\u001b[0m\u001b[1;33m\u001b[0m\u001b[0m\n",
      "\u001b[1;32m~\\AppData\\Roaming\\Python\\Python37\\site-packages\\pandas\\core\\frame.py\u001b[0m in \u001b[0;36m__init__\u001b[1;34m(self, data, index, columns, dtype, copy)\u001b[0m\n\u001b[0;32m    527\u001b[0m \u001b[1;33m\u001b[0m\u001b[0m\n\u001b[0;32m    528\u001b[0m         \u001b[1;32melif\u001b[0m \u001b[0misinstance\u001b[0m\u001b[1;33m(\u001b[0m\u001b[0mdata\u001b[0m\u001b[1;33m,\u001b[0m \u001b[0mdict\u001b[0m\u001b[1;33m)\u001b[0m\u001b[1;33m:\u001b[0m\u001b[1;33m\u001b[0m\u001b[1;33m\u001b[0m\u001b[0m\n\u001b[1;32m--> 529\u001b[1;33m             \u001b[0mmgr\u001b[0m \u001b[1;33m=\u001b[0m \u001b[0minit_dict\u001b[0m\u001b[1;33m(\u001b[0m\u001b[0mdata\u001b[0m\u001b[1;33m,\u001b[0m \u001b[0mindex\u001b[0m\u001b[1;33m,\u001b[0m \u001b[0mcolumns\u001b[0m\u001b[1;33m,\u001b[0m \u001b[0mdtype\u001b[0m\u001b[1;33m=\u001b[0m\u001b[0mdtype\u001b[0m\u001b[1;33m)\u001b[0m\u001b[1;33m\u001b[0m\u001b[1;33m\u001b[0m\u001b[0m\n\u001b[0m\u001b[0;32m    530\u001b[0m         \u001b[1;32melif\u001b[0m \u001b[0misinstance\u001b[0m\u001b[1;33m(\u001b[0m\u001b[0mdata\u001b[0m\u001b[1;33m,\u001b[0m \u001b[0mma\u001b[0m\u001b[1;33m.\u001b[0m\u001b[0mMaskedArray\u001b[0m\u001b[1;33m)\u001b[0m\u001b[1;33m:\u001b[0m\u001b[1;33m\u001b[0m\u001b[1;33m\u001b[0m\u001b[0m\n\u001b[0;32m    531\u001b[0m             \u001b[1;32mimport\u001b[0m \u001b[0mnumpy\u001b[0m\u001b[1;33m.\u001b[0m\u001b[0mma\u001b[0m\u001b[1;33m.\u001b[0m\u001b[0mmrecords\u001b[0m \u001b[1;32mas\u001b[0m \u001b[0mmrecords\u001b[0m\u001b[1;33m\u001b[0m\u001b[1;33m\u001b[0m\u001b[0m\n",
      "\u001b[1;32m~\\AppData\\Roaming\\Python\\Python37\\site-packages\\pandas\\core\\internals\\construction.py\u001b[0m in \u001b[0;36minit_dict\u001b[1;34m(data, index, columns, dtype)\u001b[0m\n\u001b[0;32m    285\u001b[0m             \u001b[0marr\u001b[0m \u001b[1;32mif\u001b[0m \u001b[1;32mnot\u001b[0m \u001b[0mis_datetime64tz_dtype\u001b[0m\u001b[1;33m(\u001b[0m\u001b[0marr\u001b[0m\u001b[1;33m)\u001b[0m \u001b[1;32melse\u001b[0m \u001b[0marr\u001b[0m\u001b[1;33m.\u001b[0m\u001b[0mcopy\u001b[0m\u001b[1;33m(\u001b[0m\u001b[1;33m)\u001b[0m \u001b[1;32mfor\u001b[0m \u001b[0marr\u001b[0m \u001b[1;32min\u001b[0m \u001b[0marrays\u001b[0m\u001b[1;33m\u001b[0m\u001b[1;33m\u001b[0m\u001b[0m\n\u001b[0;32m    286\u001b[0m         ]\n\u001b[1;32m--> 287\u001b[1;33m     \u001b[1;32mreturn\u001b[0m \u001b[0marrays_to_mgr\u001b[0m\u001b[1;33m(\u001b[0m\u001b[0marrays\u001b[0m\u001b[1;33m,\u001b[0m \u001b[0mdata_names\u001b[0m\u001b[1;33m,\u001b[0m \u001b[0mindex\u001b[0m\u001b[1;33m,\u001b[0m \u001b[0mcolumns\u001b[0m\u001b[1;33m,\u001b[0m \u001b[0mdtype\u001b[0m\u001b[1;33m=\u001b[0m\u001b[0mdtype\u001b[0m\u001b[1;33m)\u001b[0m\u001b[1;33m\u001b[0m\u001b[1;33m\u001b[0m\u001b[0m\n\u001b[0m\u001b[0;32m    288\u001b[0m \u001b[1;33m\u001b[0m\u001b[0m\n\u001b[0;32m    289\u001b[0m \u001b[1;33m\u001b[0m\u001b[0m\n",
      "\u001b[1;32m~\\AppData\\Roaming\\Python\\Python37\\site-packages\\pandas\\core\\internals\\construction.py\u001b[0m in \u001b[0;36marrays_to_mgr\u001b[1;34m(arrays, arr_names, index, columns, dtype, verify_integrity)\u001b[0m\n\u001b[0;32m     78\u001b[0m         \u001b[1;31m# figure out the index, if necessary\u001b[0m\u001b[1;33m\u001b[0m\u001b[1;33m\u001b[0m\u001b[1;33m\u001b[0m\u001b[0m\n\u001b[0;32m     79\u001b[0m         \u001b[1;32mif\u001b[0m \u001b[0mindex\u001b[0m \u001b[1;32mis\u001b[0m \u001b[1;32mNone\u001b[0m\u001b[1;33m:\u001b[0m\u001b[1;33m\u001b[0m\u001b[1;33m\u001b[0m\u001b[0m\n\u001b[1;32m---> 80\u001b[1;33m             \u001b[0mindex\u001b[0m \u001b[1;33m=\u001b[0m \u001b[0mextract_index\u001b[0m\u001b[1;33m(\u001b[0m\u001b[0marrays\u001b[0m\u001b[1;33m)\u001b[0m\u001b[1;33m\u001b[0m\u001b[1;33m\u001b[0m\u001b[0m\n\u001b[0m\u001b[0;32m     81\u001b[0m         \u001b[1;32melse\u001b[0m\u001b[1;33m:\u001b[0m\u001b[1;33m\u001b[0m\u001b[1;33m\u001b[0m\u001b[0m\n\u001b[0;32m     82\u001b[0m             \u001b[0mindex\u001b[0m \u001b[1;33m=\u001b[0m \u001b[0mensure_index\u001b[0m\u001b[1;33m(\u001b[0m\u001b[0mindex\u001b[0m\u001b[1;33m)\u001b[0m\u001b[1;33m\u001b[0m\u001b[1;33m\u001b[0m\u001b[0m\n",
      "\u001b[1;32m~\\AppData\\Roaming\\Python\\Python37\\site-packages\\pandas\\core\\internals\\construction.py\u001b[0m in \u001b[0;36mextract_index\u001b[1;34m(data)\u001b[0m\n\u001b[0;32m    399\u001b[0m             \u001b[0mlengths\u001b[0m \u001b[1;33m=\u001b[0m \u001b[0mlist\u001b[0m\u001b[1;33m(\u001b[0m\u001b[0mset\u001b[0m\u001b[1;33m(\u001b[0m\u001b[0mraw_lengths\u001b[0m\u001b[1;33m)\u001b[0m\u001b[1;33m)\u001b[0m\u001b[1;33m\u001b[0m\u001b[1;33m\u001b[0m\u001b[0m\n\u001b[0;32m    400\u001b[0m             \u001b[1;32mif\u001b[0m \u001b[0mlen\u001b[0m\u001b[1;33m(\u001b[0m\u001b[0mlengths\u001b[0m\u001b[1;33m)\u001b[0m \u001b[1;33m>\u001b[0m \u001b[1;36m1\u001b[0m\u001b[1;33m:\u001b[0m\u001b[1;33m\u001b[0m\u001b[1;33m\u001b[0m\u001b[0m\n\u001b[1;32m--> 401\u001b[1;33m                 \u001b[1;32mraise\u001b[0m \u001b[0mValueError\u001b[0m\u001b[1;33m(\u001b[0m\u001b[1;34m\"arrays must all be same length\"\u001b[0m\u001b[1;33m)\u001b[0m\u001b[1;33m\u001b[0m\u001b[1;33m\u001b[0m\u001b[0m\n\u001b[0m\u001b[0;32m    402\u001b[0m \u001b[1;33m\u001b[0m\u001b[0m\n\u001b[0;32m    403\u001b[0m             \u001b[1;32mif\u001b[0m \u001b[0mhave_dicts\u001b[0m\u001b[1;33m:\u001b[0m\u001b[1;33m\u001b[0m\u001b[1;33m\u001b[0m\u001b[0m\n",
      "\u001b[1;31mValueError\u001b[0m: arrays must all be same length"
     ]
    }
   ],
   "source": [
    "database = pd.DataFrame({'name':name, 'site':site, 'title':headline, 'description':description, 'reviews':reviews, 'tasting':tasting})\n",
    "database"
   ]
  },
  {
   "cell_type": "code",
   "execution_count": 52,
   "metadata": {},
   "outputs": [],
   "source": [
    "database.to_csv('database.csv')"
   ]
  },
  {
   "cell_type": "code",
   "execution_count": 53,
   "metadata": {},
   "outputs": [
    {
     "output_type": "execute_result",
     "data": {
      "text/plain": [
       "                                               name  \\\n",
       "0                    dulce-vida-extra-anejo-tequila   \n",
       "1                                 laphroaig-32-year   \n",
       "2                      el-jolgorio-arroqueno-mezcal   \n",
       "3                 glenmorangie-1970-s-collection-77   \n",
       "4                         balblair-1983-1st-release   \n",
       "5                  hirsch-selection-28-year-bourbon   \n",
       "6           wild-turkey-diamond-anniversary-bourbon   \n",
       "7                  black-maple-hill-16-year-bourbon   \n",
       "8                  george-t-stagg-bourbon-fall-2013   \n",
       "9            lark-single-malt-distiller-s-selection   \n",
       "10                             compass-box-hedonism   \n",
       "11     laphroaig-25-year-cask-strength-2020-edition   \n",
       "12  whistlepig-the-boss-hog-vii-magellan-s-atlantic   \n",
       "13                 george-t-stagg-bourbon-fall-2020   \n",
       "14                             foursquare-nobiliary   \n",
       "15                                redbreast-27-year   \n",
       "16                  mr-black-single-origin-colombia   \n",
       "17          mister-sam-blended-whiskey-2019-release   \n",
       "18       bunnahabhain-2005-palo-cortado-cask-finish   \n",
       "19                                 amaro-montenegro   \n",
       "\n",
       "                                                 site  \\\n",
       "0   https://distiller.com/spirits/dulce-vida-extra...   \n",
       "1     https://distiller.com/spirits/laphroaig-32-year   \n",
       "2   https://distiller.com/spirits/el-jolgorio-arro...   \n",
       "3   https://distiller.com/spirits/glenmorangie-197...   \n",
       "4   https://distiller.com/spirits/balblair-1983-1s...   \n",
       "5   https://distiller.com/spirits/hirsch-selection...   \n",
       "6   https://distiller.com/spirits/wild-turkey-diam...   \n",
       "7   https://distiller.com/spirits/black-maple-hill...   \n",
       "8   https://distiller.com/spirits/george-t-stagg-b...   \n",
       "9   https://distiller.com/spirits/lark-single-malt...   \n",
       "10  https://distiller.com/spirits/compass-box-hedo...   \n",
       "11  https://distiller.com/spirits/laphroaig-25-yea...   \n",
       "12  https://distiller.com/spirits/whistlepig-the-b...   \n",
       "13  https://distiller.com/spirits/george-t-stagg-b...   \n",
       "14  https://distiller.com/spirits/foursquare-nobil...   \n",
       "15    https://distiller.com/spirits/redbreast-27-year   \n",
       "16  https://distiller.com/spirits/mr-black-single-...   \n",
       "17  https://distiller.com/spirits/mister-sam-blend...   \n",
       "18  https://distiller.com/spirits/bunnahabhain-200...   \n",
       "19     https://distiller.com/spirits/amaro-montenegro   \n",
       "\n",
       "                                                title  \\\n",
       "0   Dulce Vida Extra Añejo TequilaTequila Extra Añ...   \n",
       "1   Laphroaig 32 YearPeated Single MaltLaphroaig /...   \n",
       "2   El Jolgorio Arroqueño MezcalMezcal JovenEl Jol...   \n",
       "3   Glenmorangie 1970's Collection '77Single MaltG...   \n",
       "4   Balblair 1983 1st ReleaseSingle MaltBalblair /...   \n",
       "5   Hirsch Selection 28 Year BourbonBourbonHIRSCH ...   \n",
       "6   Wild Turkey Diamond Anniversary BourbonBourbon...   \n",
       "7   Black Maple Hill 16 Year BourbonBourbonBlack M...   \n",
       "8   George T. Stagg Bourbon (Fall 2013)BourbonBuff...   \n",
       "9   Lark Single Malt Distiller's SelectionPeated S...   \n",
       "10  Compass Box HedonismBlended GrainCompass Box /...   \n",
       "11  Laphroaig 25 Year Cask Strength (2020 Edition)...   \n",
       "12  Whistlepig The Boss Hog VII: Magellan's Atlant...   \n",
       "13  George T. Stagg Bourbon (Fall 2020)BourbonGeor...   \n",
       "14  Foursquare NobiliaryAged RumFoursquare // Barb...   \n",
       "15  Redbreast 27 YearSingle Pot StillRedbreast // ...   \n",
       "16  Mr Black Single Origin ColombiaCoffee Liqueurs...   \n",
       "17  Mister Sam Blended Whiskey (2019 Release)Other...   \n",
       "18  Bunnahabhain 2005 Palo Cortado Cask FinishPeat...   \n",
       "19  Amaro MontenegroAmaroMontenegro // Emilia-Roma...   \n",
       "\n",
       "                                              reviews  \n",
       "0   age5 YearCostabv50.0Tequila Extra AñejoDistill...  \n",
       "1   age32 YearCostabv46.7Peated Single Malt100% ma...  \n",
       "2   ageNASCostabv53.7Mezcal JovenA spirit distille...  \n",
       "3   ageCostabv43.0Single MaltDistilled in pot stil...  \n",
       "4   ageNASCostabv46.0Single MaltDistilled in pot s...  \n",
       "5   age28 YearCostabv43.4BourbonProduced anywhere ...  \n",
       "6   ageNASCostabv45.5BourbonProduced anywhere in U...  \n",
       "7   age16 YearsCostabv47.5BourbonProduced anywhere...  \n",
       "8   age15Costabv64.1BourbonProduced anywhere in US...  \n",
       "9   ageCostabv46.0Peated Single Malt100% malted ba...  \n",
       "10  ageNASCostabv43.0Blended GrainDistilled from a...  \n",
       "11  age25 YearCostabv49.8Peated Single Malt100% ma...  \n",
       "12  age17 YearCostabv52.6RyeMash bill at least 51%...  \n",
       "13  age15 YearCostabv65.2BourbonProduced anywhere ...  \n",
       "14  age14 YearCostabv62.0Aged RumRum that is aged,...  \n",
       "15  age27 YearCostabv53.5Single Pot StillProduced ...  \n",
       "16  ageNASCostabv25.0Coffee LiqueursCoffee liqueur...  \n",
       "17  ageNASCostabv66.9Other WhiskeyA spirit distill...  \n",
       "18  ageNASCostabv54.9Peated Single Malt100% malted...  \n",
       "19  ageNASCostabv23.0AmaroAmaro means “bitter” in ...  "
      ],
      "text/html": "<div>\n<style scoped>\n    .dataframe tbody tr th:only-of-type {\n        vertical-align: middle;\n    }\n\n    .dataframe tbody tr th {\n        vertical-align: top;\n    }\n\n    .dataframe thead th {\n        text-align: right;\n    }\n</style>\n<table border=\"1\" class=\"dataframe\">\n  <thead>\n    <tr style=\"text-align: right;\">\n      <th></th>\n      <th>name</th>\n      <th>site</th>\n      <th>title</th>\n      <th>reviews</th>\n    </tr>\n  </thead>\n  <tbody>\n    <tr>\n      <th>0</th>\n      <td>dulce-vida-extra-anejo-tequila</td>\n      <td>https://distiller.com/spirits/dulce-vida-extra...</td>\n      <td>Dulce Vida Extra Añejo TequilaTequila Extra Añ...</td>\n      <td>age5 YearCostabv50.0Tequila Extra AñejoDistill...</td>\n    </tr>\n    <tr>\n      <th>1</th>\n      <td>laphroaig-32-year</td>\n      <td>https://distiller.com/spirits/laphroaig-32-year</td>\n      <td>Laphroaig 32 YearPeated Single MaltLaphroaig /...</td>\n      <td>age32 YearCostabv46.7Peated Single Malt100% ma...</td>\n    </tr>\n    <tr>\n      <th>2</th>\n      <td>el-jolgorio-arroqueno-mezcal</td>\n      <td>https://distiller.com/spirits/el-jolgorio-arro...</td>\n      <td>El Jolgorio Arroqueño MezcalMezcal JovenEl Jol...</td>\n      <td>ageNASCostabv53.7Mezcal JovenA spirit distille...</td>\n    </tr>\n    <tr>\n      <th>3</th>\n      <td>glenmorangie-1970-s-collection-77</td>\n      <td>https://distiller.com/spirits/glenmorangie-197...</td>\n      <td>Glenmorangie 1970's Collection '77Single MaltG...</td>\n      <td>ageCostabv43.0Single MaltDistilled in pot stil...</td>\n    </tr>\n    <tr>\n      <th>4</th>\n      <td>balblair-1983-1st-release</td>\n      <td>https://distiller.com/spirits/balblair-1983-1s...</td>\n      <td>Balblair 1983 1st ReleaseSingle MaltBalblair /...</td>\n      <td>ageNASCostabv46.0Single MaltDistilled in pot s...</td>\n    </tr>\n    <tr>\n      <th>5</th>\n      <td>hirsch-selection-28-year-bourbon</td>\n      <td>https://distiller.com/spirits/hirsch-selection...</td>\n      <td>Hirsch Selection 28 Year BourbonBourbonHIRSCH ...</td>\n      <td>age28 YearCostabv43.4BourbonProduced anywhere ...</td>\n    </tr>\n    <tr>\n      <th>6</th>\n      <td>wild-turkey-diamond-anniversary-bourbon</td>\n      <td>https://distiller.com/spirits/wild-turkey-diam...</td>\n      <td>Wild Turkey Diamond Anniversary BourbonBourbon...</td>\n      <td>ageNASCostabv45.5BourbonProduced anywhere in U...</td>\n    </tr>\n    <tr>\n      <th>7</th>\n      <td>black-maple-hill-16-year-bourbon</td>\n      <td>https://distiller.com/spirits/black-maple-hill...</td>\n      <td>Black Maple Hill 16 Year BourbonBourbonBlack M...</td>\n      <td>age16 YearsCostabv47.5BourbonProduced anywhere...</td>\n    </tr>\n    <tr>\n      <th>8</th>\n      <td>george-t-stagg-bourbon-fall-2013</td>\n      <td>https://distiller.com/spirits/george-t-stagg-b...</td>\n      <td>George T. Stagg Bourbon (Fall 2013)BourbonBuff...</td>\n      <td>age15Costabv64.1BourbonProduced anywhere in US...</td>\n    </tr>\n    <tr>\n      <th>9</th>\n      <td>lark-single-malt-distiller-s-selection</td>\n      <td>https://distiller.com/spirits/lark-single-malt...</td>\n      <td>Lark Single Malt Distiller's SelectionPeated S...</td>\n      <td>ageCostabv46.0Peated Single Malt100% malted ba...</td>\n    </tr>\n    <tr>\n      <th>10</th>\n      <td>compass-box-hedonism</td>\n      <td>https://distiller.com/spirits/compass-box-hedo...</td>\n      <td>Compass Box HedonismBlended GrainCompass Box /...</td>\n      <td>ageNASCostabv43.0Blended GrainDistilled from a...</td>\n    </tr>\n    <tr>\n      <th>11</th>\n      <td>laphroaig-25-year-cask-strength-2020-edition</td>\n      <td>https://distiller.com/spirits/laphroaig-25-yea...</td>\n      <td>Laphroaig 25 Year Cask Strength (2020 Edition)...</td>\n      <td>age25 YearCostabv49.8Peated Single Malt100% ma...</td>\n    </tr>\n    <tr>\n      <th>12</th>\n      <td>whistlepig-the-boss-hog-vii-magellan-s-atlantic</td>\n      <td>https://distiller.com/spirits/whistlepig-the-b...</td>\n      <td>Whistlepig The Boss Hog VII: Magellan's Atlant...</td>\n      <td>age17 YearCostabv52.6RyeMash bill at least 51%...</td>\n    </tr>\n    <tr>\n      <th>13</th>\n      <td>george-t-stagg-bourbon-fall-2020</td>\n      <td>https://distiller.com/spirits/george-t-stagg-b...</td>\n      <td>George T. Stagg Bourbon (Fall 2020)BourbonGeor...</td>\n      <td>age15 YearCostabv65.2BourbonProduced anywhere ...</td>\n    </tr>\n    <tr>\n      <th>14</th>\n      <td>foursquare-nobiliary</td>\n      <td>https://distiller.com/spirits/foursquare-nobil...</td>\n      <td>Foursquare NobiliaryAged RumFoursquare // Barb...</td>\n      <td>age14 YearCostabv62.0Aged RumRum that is aged,...</td>\n    </tr>\n    <tr>\n      <th>15</th>\n      <td>redbreast-27-year</td>\n      <td>https://distiller.com/spirits/redbreast-27-year</td>\n      <td>Redbreast 27 YearSingle Pot StillRedbreast // ...</td>\n      <td>age27 YearCostabv53.5Single Pot StillProduced ...</td>\n    </tr>\n    <tr>\n      <th>16</th>\n      <td>mr-black-single-origin-colombia</td>\n      <td>https://distiller.com/spirits/mr-black-single-...</td>\n      <td>Mr Black Single Origin ColombiaCoffee Liqueurs...</td>\n      <td>ageNASCostabv25.0Coffee LiqueursCoffee liqueur...</td>\n    </tr>\n    <tr>\n      <th>17</th>\n      <td>mister-sam-blended-whiskey-2019-release</td>\n      <td>https://distiller.com/spirits/mister-sam-blend...</td>\n      <td>Mister Sam Blended Whiskey (2019 Release)Other...</td>\n      <td>ageNASCostabv66.9Other WhiskeyA spirit distill...</td>\n    </tr>\n    <tr>\n      <th>18</th>\n      <td>bunnahabhain-2005-palo-cortado-cask-finish</td>\n      <td>https://distiller.com/spirits/bunnahabhain-200...</td>\n      <td>Bunnahabhain 2005 Palo Cortado Cask FinishPeat...</td>\n      <td>ageNASCostabv54.9Peated Single Malt100% malted...</td>\n    </tr>\n    <tr>\n      <th>19</th>\n      <td>amaro-montenegro</td>\n      <td>https://distiller.com/spirits/amaro-montenegro</td>\n      <td>Amaro MontenegroAmaroMontenegro // Emilia-Roma...</td>\n      <td>ageNASCostabv23.0AmaroAmaro means “bitter” in ...</td>\n    </tr>\n  </tbody>\n</table>\n</div>"
     },
     "metadata": {},
     "execution_count": 53
    }
   ],
   "source": [
    "database.head(20)"
   ]
  },
  {
   "cell_type": "code",
   "execution_count": 24,
   "metadata": {},
   "outputs": [
    {
     "output_type": "execute_result",
     "data": {
      "text/plain": [
       "'age5 YearCostabv50.0Tequila Extra AñejoDistilled from 100% blue Weber agave, it is aged for at least 3 years in barrels not to exceed 600 liters. Any type of wood is acceptable, although ex-bourbon barrels are most common. Extra Añejo tequilas are also known as \"ultra aged\".Cask Typeex-red wine barrels'"
      ]
     },
     "metadata": {},
     "execution_count": 24
    }
   ],
   "source": [
    "url = 'https://distiller.com/spirits/' + 'dulce-vida-extra-anejo-tequila'\n",
    "response = requests.get(url)\n",
    "sleep(0.7) #sleep not to upset the website\n",
    "soup = BeautifulSoup(response.text, \"lxml\")\n",
    "#name.append(item)\n",
    "foo = soup.find('div', attrs={\"class\":\"other-details-container\"})\n",
    "foo.get_text(strip=True)"
   ]
  },
  {
   "cell_type": "code",
   "execution_count": null,
   "metadata": {},
   "outputs": [],
   "source": [
    "notes"
   ]
  },
  {
   "cell_type": "code",
   "execution_count": null,
   "metadata": {},
   "outputs": [],
   "source": [
    "title = foo.get_text(strip=True)\n",
    "notes.append(title)"
   ]
  }
 ],
 "metadata": {
  "kernelspec": {
   "name": "python3",
   "display_name": "Python 3.7.9 64-bit ('Portfolio-Tracker': pipenv)",
   "metadata": {
    "interpreter": {
     "hash": "0600588c3b5f4418cbe7b5ebc6825b479f3bc010269d8b60d75058cdd010adfe"
    }
   }
  },
  "language_info": {
   "codemirror_mode": {
    "name": "ipython",
    "version": 3
   },
   "file_extension": ".py",
   "mimetype": "text/x-python",
   "name": "python",
   "nbconvert_exporter": "python",
   "pygments_lexer": "ipython3",
   "version": "3.7.9-final"
  },
  "orig_nbformat": 2
 },
 "nbformat": 4,
 "nbformat_minor": 2
}