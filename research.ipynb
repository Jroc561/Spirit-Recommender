{
 "cells": [
  {
   "cell_type": "code",
   "execution_count": 2,
   "metadata": {},
   "outputs": [],
   "source": [
    "import pandas as pd\n",
    "import requests\n",
    "from bs4 import BeautifulSoup"
   ]
  },
  {
   "cell_type": "code",
   "execution_count": 13,
   "metadata": {},
   "outputs": [],
   "source": [
    "spirit_list = []\n",
    "\n",
    "for i in range(2,10,1):\n",
    "    url = 'https://distiller.com/search?page=' + str(i)\n",
    "    response = requests.get(url)\n",
    "    soup = BeautifulSoup(response.text, \"html5lib\")\n",
    "    for spirit in soup.findAll('div', attrs={\"class\":\"name\"}):\n",
    "        spirit = spirit.text.strip()\n",
    "        spirit_list.append(spirit)\n",
    "\n",
    "foo = pd.DataFrame(spirit_list)\n",
    "foo.to_csv('spirit_list.csv')"
   ]
  },
  {
   "cell_type": "code",
   "execution_count": 31,
   "metadata": {},
   "outputs": [],
   "source": [
    "page = [range(2,5,1)]\n",
    "url = 'https://distiller.com/search?page=' + str(page)\n",
    "response = requests.get(url)\n",
    "soup = BeautifulSoup(response.text, \"html5lib\")\n",
    "spirit_list = []\n",
    "for spirit in soup.findAll('div', attrs={\"class\":\"name\"}):\n",
    "    spirit = spirit.text.strip()\n",
    "    spirit_list.append(spirit)"
   ]
  },
  {
   "cell_type": "code",
   "execution_count": 32,
   "metadata": {},
   "outputs": [
    {
     "data": {
      "text/plain": [
       "['Dulce Vida Extra Añejo Tequila',\n",
       " 'Tequila Tapatio Excelencia Gran Reserva Lot 1',\n",
       " 'Laphroaig 32 Year',\n",
       " 'El Jolgorio Arroqueño Mezcal',\n",
       " \"Glenmorangie 1970's Collection '77\",\n",
       " 'Laphroaig Cairdeas 2013 Port Wood Edition',\n",
       " 'The Last Drop 48 Year Blended Scotch Whisky',\n",
       " 'Balblair 1983 1st Release',\n",
       " 'Hirsch Selection 28 Year Bourbon',\n",
       " 'Oban 21 Year Cask Strength',\n",
       " 'Wild Turkey Diamond Anniversary Bourbon',\n",
       " 'Black Maple Hill 16 Year Bourbon',\n",
       " 'George T. Stagg Bourbon (Fall 2013)',\n",
       " 'Highland Park 30 Year',\n",
       " 'Yamazaki 18 Year',\n",
       " \"Lark Single Malt Distiller's Selection\",\n",
       " 'Bushmills 21 Year Single Malt',\n",
       " 'Compass Box Hedonism',\n",
       " 'Laphroaig 25 Year Cask Strength (2020 Edition)',\n",
       " \"Whistlepig The Boss Hog VII: Magellan's Atlantic\",\n",
       " 'George T. Stagg Bourbon (Fall 2020)',\n",
       " 'Foursquare Nobiliary',\n",
       " 'Redbreast 27 Year',\n",
       " 'Mr Black Single Origin Colombia',\n",
       " 'Mister Sam Blended Whiskey (2019 Release)',\n",
       " 'Bunnahabhain 2005 Palo Cortado Cask Finish',\n",
       " 'Canadian Club Chronicles 41 Year',\n",
       " 'Amaro Montenegro',\n",
       " 'Red Spot 15 Year Single Pot Still',\n",
       " 'Pierre Ferrand Dry Curaçao',\n",
       " 'William Larue Weller Bourbon (Fall 2018)',\n",
       " 'Old Forester Birthday Bourbon 2018',\n",
       " 'Catoctin Creek Rabble Rouser Bottled in Bond Rye',\n",
       " 'Tequila ArteNOM Selección de 1579 Blanco',\n",
       " 'Bruichladdich 1984/32 Bourbon: All In',\n",
       " 'Lock Stock & Barrel Straight Rye Whiskey 18 Year',\n",
       " 'Canadian Club 40 Year',\n",
       " \"J.P. Wiser's 35 Year\",\n",
       " 'Yamazaki 18 Year Mizunara Cask 2017 Edition',\n",
       " 'Chopin Wheat Vodka',\n",
       " 'Glenmorangie Grand Vintage 1990',\n",
       " 'Bowmore 50 Year 1961',\n",
       " 'Foursquare 2004 Single Blended Rum',\n",
       " 'Appleton Estate Joy Anniversary Blend',\n",
       " 'Don Amado Añejo Mezcal',\n",
       " \"J.P. Wiser's Union 52\",\n",
       " \"Farmer's Botanical Organic Gin\",\n",
       " 'Hernö Juniper Cask Gin',\n",
       " 'Four Roses Limited Edition Small Batch Bourbon (2016)',\n",
       " 'William Larue Weller Bourbon (Fall 2016)']"
      ]
     },
     "execution_count": 32,
     "metadata": {},
     "output_type": "execute_result"
    }
   ],
   "source": [
    "spirit_list"
   ]
  },
  {
   "cell_type": "code",
   "execution_count": 28,
   "metadata": {},
   "outputs": [
    {
     "data": {
      "text/plain": [
       "[<div class=\"name\">Dulce Vida Extra Añejo Tequila</div>,\n",
       " <div class=\"name\">Tequila Tapatio Excelencia Gran Reserva Lot 1</div>,\n",
       " <div class=\"name\">Laphroaig 32 Year </div>,\n",
       " <div class=\"name\">El Jolgorio Arroqueño Mezcal</div>,\n",
       " <div class=\"name\">Glenmorangie 1970's Collection '77</div>,\n",
       " <div class=\"name\">Laphroaig Cairdeas 2013 Port Wood Edition</div>,\n",
       " <div class=\"name\">The Last Drop 48 Year Blended Scotch Whisky</div>,\n",
       " <div class=\"name\">Balblair 1983 1st Release </div>,\n",
       " <div class=\"name\">Hirsch Selection 28 Year Bourbon</div>,\n",
       " <div class=\"name\">Oban 21 Year Cask Strength</div>,\n",
       " <div class=\"name\">Wild Turkey Diamond Anniversary Bourbon</div>,\n",
       " <div class=\"name\">Black Maple Hill 16 Year Bourbon</div>,\n",
       " <div class=\"name\">George T. Stagg Bourbon (Fall 2013)</div>,\n",
       " <div class=\"name\">Highland Park 30 Year</div>,\n",
       " <div class=\"name\">Yamazaki 18 Year</div>,\n",
       " <div class=\"name\">Lark Single Malt Distiller's Selection</div>,\n",
       " <div class=\"name\">Bushmills 21 Year Single Malt</div>,\n",
       " <div class=\"name\">Compass Box Hedonism</div>,\n",
       " <div class=\"name\">Laphroaig 25 Year Cask Strength (2020 Edition)</div>,\n",
       " <div class=\"name\">Whistlepig The Boss Hog VII: Magellan's Atlantic </div>,\n",
       " <div class=\"name\">George T. Stagg Bourbon (Fall 2020)</div>,\n",
       " <div class=\"name\">Foursquare Nobiliary</div>,\n",
       " <div class=\"name\">Redbreast 27 Year</div>,\n",
       " <div class=\"name\">Mr Black Single Origin Colombia </div>,\n",
       " <div class=\"name\">Mister Sam Blended Whiskey (2019 Release)</div>,\n",
       " <div class=\"name\">Bunnahabhain 2005 Palo Cortado Cask Finish</div>,\n",
       " <div class=\"name\">Canadian Club Chronicles 41 Year</div>,\n",
       " <div class=\"name\">Amaro Montenegro</div>,\n",
       " <div class=\"name\">Red Spot 15 Year Single Pot Still</div>,\n",
       " <div class=\"name\">Pierre Ferrand Dry Curaçao</div>,\n",
       " <div class=\"name\">William Larue Weller Bourbon (Fall 2018)</div>,\n",
       " <div class=\"name\">Old Forester Birthday Bourbon 2018</div>,\n",
       " <div class=\"name\">Catoctin Creek Rabble Rouser Bottled in Bond Rye </div>,\n",
       " <div class=\"name\">Tequila ArteNOM Selección de 1579 Blanco</div>,\n",
       " <div class=\"name\">Bruichladdich 1984/32 Bourbon: All In</div>,\n",
       " <div class=\"name\">Lock Stock &amp; Barrel Straight Rye Whiskey 18 Year</div>,\n",
       " <div class=\"name\">Canadian Club 40 Year </div>,\n",
       " <div class=\"name\">J.P. Wiser's 35 Year</div>,\n",
       " <div class=\"name\">Yamazaki 18 Year Mizunara Cask 2017 Edition</div>,\n",
       " <div class=\"name\">Chopin Wheat Vodka</div>,\n",
       " <div class=\"name\">Glenmorangie Grand Vintage 1990</div>,\n",
       " <div class=\"name\">Bowmore 50 Year 1961 </div>,\n",
       " <div class=\"name\">Foursquare 2004 Single Blended Rum </div>,\n",
       " <div class=\"name\">Appleton Estate Joy Anniversary Blend</div>,\n",
       " <div class=\"name\">Don Amado Añejo Mezcal</div>,\n",
       " <div class=\"name\">J.P. Wiser's Union 52</div>,\n",
       " <div class=\"name\">Farmer's Botanical Organic Gin</div>,\n",
       " <div class=\"name\">Hernö Juniper Cask Gin</div>,\n",
       " <div class=\"name\">Four Roses Limited Edition Small Batch Bourbon (2016)</div>,\n",
       " <div class=\"name\">William Larue Weller Bourbon (Fall 2016)</div>]"
      ]
     },
     "execution_count": 28,
     "metadata": {},
     "output_type": "execute_result"
    }
   ],
   "source": [
    "page = '2'\n",
    "url = 'https://distiller.com/search?page=' + page\n",
    "response = requests.get(url)\n",
    "soup = BeautifulSoup(response.text, \"html5lib\")\n",
    "var = soup.findAll('div', attrs={\"class\":\"name\"}, text=True)\n",
    "var"
   ]
  },
  {
   "cell_type": "code",
   "execution_count": null,
   "metadata": {},
   "outputs": [],
   "source": [
    "spirit = 'jameson-select-reserve-small-batch'\n",
    "url = 'https://distiller.com/spirits/' + spirit\n",
    "response = requests.get(url)\n",
    "soup = BeautifulSoup(response.text, 'html.parser')\n",
    "var = soup.findAll('p')[2:]\n",
    "spirit_data = spirit_data.append(pd.DataFrame({'Spirit' : spirit, 'Review' : var}))"
   ]
  }
 ],
 "metadata": {
  "kernelspec": {
   "display_name": "Python 3.9.1 64-bit",
   "language": "python",
   "name": "python39164bit1403dc9b93394d8f9ff214505f33f4c3"
  },
  "language_info": {
   "codemirror_mode": {
    "name": "ipython",
    "version": 3
   },
   "file_extension": ".py",
   "mimetype": "text/x-python",
   "name": "python",
   "nbconvert_exporter": "python",
   "pygments_lexer": "ipython3",
   "version": "3.9.1"
  },
  "orig_nbformat": 2
 },
 "nbformat": 4,
 "nbformat_minor": 2
}