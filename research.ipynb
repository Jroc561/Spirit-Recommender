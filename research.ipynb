{
 "cells": [
  {
   "cell_type": "code",
   "execution_count": 2,
   "metadata": {},
   "outputs": [],
   "source": [
    "import pandas as pd\n",
    "import requests\n",
    "from bs4 import BeautifulSoup\n",
    "from time import sleep\n",
    "from random import randint\n",
    "from tqdm import tqdm"
   ]
  },
  {
   "cell_type": "code",
   "execution_count": 8,
   "metadata": {},
   "outputs": [
    {
     "name": "stderr",
     "output_type": "stream",
     "text": [
      "100%|██████████| 448/448 [13:22<00:00,  1.79s/it]\n"
     ]
    }
   ],
   "source": [
    "\"\"\"\n",
    "To collect all the spirit names to create URL for the spirit data. Should only have to run once\n",
    "\n",
    "\n",
    "spirit_list = [] #create list of spirit names for url completion later \n",
    "\n",
    "for i in tqdm(range(2,450,1)): #pages 2 through 450\n",
    "    url = 'https://distiller.com/search?page=' + str(i)\n",
    "    response = requests.get(url)\n",
    "    sleep(0.5) #sleep not to upset the website\n",
    "    soup = BeautifulSoup(response.text, \"html5lib\")\n",
    "    for spirit in soup.findAll('div', attrs={\"class\":\"name\"}):\n",
    "        spirit = spirit.text.strip()\n",
    "        spirit_list.append(spirit)\n",
    "\n",
    "foo = pd.DataFrame(spirit_list)\n",
    "foo.drop_duplicates()\n",
    "foo.to_csv('spirit_list.csv')\n",
    "\"\"\""
   ]
  },
  {
   "cell_type": "code",
   "execution_count": 43,
   "metadata": {},
   "outputs": [],
   "source": [
    "# Spirit list is the list of spirits listed on the distiler website\n",
    "spirit_list = pd.read_csv('spirit_list.csv', index_col=0)\n",
    "spirit_list = spirit_list['0'].tolist()\n"
   ]
  },
  {
   "cell_type": "code",
   "execution_count": 55,
   "metadata": {},
   "outputs": [
    {
     "data": {
      "text/plain": "['dulce-vida-extra-anejo-tequila',\n 'tequila-tapatio-excelencia-gran-reserva-lot-1',\n 'laphroaig-32-year',\n 'el-jolgorio-arroqueno-mezcal',\n 'glenmorangie-1970-s-collection-77',\n 'laphroaig-cairdeas-2013-port-wood-edition',\n 'the-last-drop-48-year-blended-scotch-whisky',\n 'balblair-1983-1st-release',\n 'hirsch-selection-28-year-bourbon',\n 'oban-21-year-cask-strength',\n 'wild-turkey-diamond-anniversary-bourbon',\n 'black-maple-hill-16-year-bourbon',\n 'george-t-stagg-bourbon-fall-2013',\n 'highland-park-30-year',\n 'yamazaki-18-year',\n 'lark-single-malt-distiller-s-selection',\n 'bushmills-21-year-single-malt',\n 'compass-box-hedonism',\n 'laphroaig-25-year-cask-strength-2020-edition',\n 'whistlepig-the-boss-hog-vii-magellan-s-atlantic',\n 'george-t-stagg-bourbon-fall-2020',\n 'foursquare-nobiliary',\n 'redbreast-27-year',\n 'mr-black-single-origin-colombia',\n 'mister-sam-blended-whiskey-2019-release']"
     },
     "execution_count": 55,
     "metadata": {},
     "output_type": "execute_result"
    }
   ],
   "source": [
    "spirit_list[0:25]"
   ]
  },
  {
   "cell_type": "code",
   "execution_count": 40,
   "metadata": {},
   "outputs": [],
   "source": [
    "spirit_list = [x.lower() for x in spirit_list]\n",
    "spirit_list = [x.replace(' ', '-') for x in spirit_list]\n",
    "spirit_list = [x.replace(\"'\", '-') for x in spirit_list]\n",
    "spirit_list = [x.replace('--', '-') for x in spirit_list]\n",
    "spirit_list = [x.replace('.', '') for x in spirit_list]\n",
    "spirit_list = [x.replace(\"(\", '') for x in spirit_list]\n",
    "spirit_list = [x.replace(\")\", '') for x in spirit_list]\n",
    "spirit_list = [x.replace(':', '') for x in spirit_list]\n",
    "spirit_list = [x.replace('ñ', 'n') for x in spirit_list]\n",
    "spirit_list = [x.replace('ç', 'c') for x in spirit_list]\n",
    "spirit_list = [x.replace('ó', 'o') for x in spirit_list]\n",
    "spirit_list = [x.replace('ö', 'o') for x in spirit_list]\n",
    "spirit_list = [x.replace('é', 'e') for x in spirit_list]\n",
    "spirit_list = [x.replace('/', '-') for x in spirit_list]\n",
    "spirit_list = [x.replace('á', 'a') for x in spirit_list]\n",
    "spirit_list = [x.replace('#', '') for x in spirit_list]\n",
    "spirit_list = [x.replace('ę', 'e') for x in spirit_list]\n",
    "spirit_list = [x.replace('ż', 'z') for x in spirit_list]\n",
    "spirit_list = [x.replace('ż', 'z') for x in spirit_list]\n",
    "spirit_list = [x.replace('ê', 'e') for x in spirit_list]\n",
    "spirit_list = [x.replace('ê', 'e') for x in spirit_list]\n",
    "spirit_list = [x.replace('%', '') for x in spirit_list]\n",
    "spirit_list = [x.replace(\"’\", '-') for x in spirit_list]\n",
    "spirit_list = [x.replace(',', '') for x in spirit_list]"
   ]
  },
  {
   "cell_type": "code",
   "execution_count": 89,
   "metadata": {},
   "outputs": [
    {
     "data": {
      "text/plain": "['dulce-vida-extra-anejo-tequila',\n 'tequila-tapatio-excelencia-gran-reserva-lot-1',\n 'laphroaig-32-year',\n 'el-jolgorio-arroqueno-mezcal',\n 'glenmorangie-1970-s-collection-77',\n 'laphroaig-cairdeas-2013-port-wood-edition',\n 'the-last-drop-48-year-blended-scotch-whisky',\n 'balblair-1983-1st-release',\n 'hirsch-selection-28-year-bourbon',\n 'oban-21-year-cask-strength']"
     },
     "execution_count": 89,
     "metadata": {},
     "output_type": "execute_result"
    }
   ],
   "source": [
    "name[0:10]"
   ]
  },
  {
   "cell_type": "code",
   "execution_count": 88,
   "metadata": {},
   "outputs": [
    {
     "data": {
      "text/plain": "['Dulce Vida Extra Añejo TequilaTequila Extra AñejoDulce Vida // Los Altos, Jalisco, MexicoShop Now3 sellers ',\n 'Laphroaig 32 YearPeated Single MaltLaphroaig // Islay, ScotlandRAREShop Now3 sellers ',\n 'El Jolgorio Arroqueño MezcalMezcal JovenEl Jolgorio // Oaxaca, MexicoRAREShop Now3 sellers ',\n \"Glenmorangie 1970's Collection '77Single MaltGlenmorangie // Highlands, ScotlandRARE \",\n 'Balblair 1983 1st ReleaseSingle MaltBalblair // Highlands , Scotland ',\n 'Hirsch Selection 28 Year BourbonBourbonHIRSCH // Kentucky, USARARE ']"
     },
     "execution_count": 88,
     "metadata": {},
     "output_type": "execute_result"
    }
   ],
   "source": [
    "headline[0:10]"
   ]
  },
  {
   "cell_type": "code",
   "execution_count": 72,
   "metadata": {},
   "outputs": [
    {
     "data": {
      "text/plain": "['age\\n5 Year\\n\\n\\nCost\\n\\n\\n\\n\\n\\n\\n\\n\\n\\n\\n\\n\\nabv\\n50.0\\n\\n\\n\\nTequila Extra Añejo\\nDistilled from 100% blue Weber agave, it is aged for at least 3 years in barrels not to exceed 600 liters. Any type of wood is acceptable, although ex-bourbon barrels are most common. Extra Añejo tequilas are also known as \"ultra aged\". \\n\\n\\nCask Type\\nex-red wine barrels ']"
     },
     "execution_count": 72,
     "metadata": {},
     "output_type": "execute_result"
    }
   ],
   "source": [
    "reviews[0:1]"
   ]
  },
  {
   "cell_type": "code",
   "execution_count": 85,
   "metadata": {},
   "outputs": [
    {
     "name": "stderr",
     "output_type": "stream",
     "text": [
      "100%|██████████| 10/10 [00:11<00:00,  1.20s/it]\n"
     ]
    }
   ],
   "source": [
    "name = []\n",
    "headline = []\n",
    "description = []\n",
    "reviews = []\n",
    "\n",
    "for item in tqdm(spirit_list[0:10]):\n",
    "    url = 'https://distiller.com/spirits/' + str(item)\n",
    "    response = requests.get(url)\n",
    "    sleep(0.5) #sleep not to upset the website\n",
    "    soup = BeautifulSoup(response.text, \"html5lib\")\n",
    "    name.append(item)\n",
    "    for title in soup.findAll('div', attrs={\"class\":\"vitals\"}):\n",
    "            title = title.get_text(strip=True)\n",
    "            headline.append(title + ' ')\n",
    "    for review in soup.findAll('div', attrs={\"class\":\"only-big\"}):\n",
    "            review = review.get_text(strip=True)\n",
    "            description.append(review + ' ')\n",
    "    for details in soup.findAll('div', attrs={\"class\":\"other-details-container\"}):\n",
    "            details = details.get_text(strip=True)\n",
    "            reviews.append(details + ' ')\n"
   ]
  },
  {
   "cell_type": "code",
   "execution_count": 86,
   "metadata": {},
   "outputs": [
    {
     "ename": "ValueError",
     "evalue": "arrays must all be same length",
     "output_type": "error",
     "traceback": [
      "\u001b[0;31m---------------------------------------------------------------------------\u001b[0m",
      "\u001b[0;31mValueError\u001b[0m                                Traceback (most recent call last)",
      "\u001b[0;32m<ipython-input-86-edcffe129f8d>\u001b[0m in \u001b[0;36m<module>\u001b[0;34m\u001b[0m\n\u001b[0;32m----> 1\u001b[0;31m \u001b[0mdatabase\u001b[0m \u001b[0;34m=\u001b[0m \u001b[0mpd\u001b[0m\u001b[0;34m.\u001b[0m\u001b[0mDataFrame\u001b[0m\u001b[0;34m(\u001b[0m\u001b[0;34m{\u001b[0m\u001b[0;34m'name'\u001b[0m\u001b[0;34m:\u001b[0m\u001b[0mname\u001b[0m\u001b[0;34m,\u001b[0m \u001b[0;34m'title'\u001b[0m\u001b[0;34m:\u001b[0m\u001b[0mheadline\u001b[0m\u001b[0;34m,\u001b[0m \u001b[0;34m'description'\u001b[0m\u001b[0;34m:\u001b[0m\u001b[0mdescription\u001b[0m\u001b[0;34m,\u001b[0m \u001b[0;34m'reviews'\u001b[0m\u001b[0;34m:\u001b[0m\u001b[0mreviews\u001b[0m\u001b[0;34m}\u001b[0m\u001b[0;34m)\u001b[0m\u001b[0;34m\u001b[0m\u001b[0;34m\u001b[0m\u001b[0m\n\u001b[0m\u001b[1;32m      2\u001b[0m \u001b[0mdatabase\u001b[0m\u001b[0;34m\u001b[0m\u001b[0;34m\u001b[0m\u001b[0m\n",
      "\u001b[0;32m/Library/Frameworks/Python.framework/Versions/3.9/lib/python3.9/site-packages/pandas/core/frame.py\u001b[0m in \u001b[0;36m__init__\u001b[0;34m(self, data, index, columns, dtype, copy)\u001b[0m\n\u001b[1;32m    527\u001b[0m \u001b[0;34m\u001b[0m\u001b[0m\n\u001b[1;32m    528\u001b[0m         \u001b[0;32melif\u001b[0m \u001b[0misinstance\u001b[0m\u001b[0;34m(\u001b[0m\u001b[0mdata\u001b[0m\u001b[0;34m,\u001b[0m \u001b[0mdict\u001b[0m\u001b[0;34m)\u001b[0m\u001b[0;34m:\u001b[0m\u001b[0;34m\u001b[0m\u001b[0;34m\u001b[0m\u001b[0m\n\u001b[0;32m--> 529\u001b[0;31m             \u001b[0mmgr\u001b[0m \u001b[0;34m=\u001b[0m \u001b[0minit_dict\u001b[0m\u001b[0;34m(\u001b[0m\u001b[0mdata\u001b[0m\u001b[0;34m,\u001b[0m \u001b[0mindex\u001b[0m\u001b[0;34m,\u001b[0m \u001b[0mcolumns\u001b[0m\u001b[0;34m,\u001b[0m \u001b[0mdtype\u001b[0m\u001b[0;34m=\u001b[0m\u001b[0mdtype\u001b[0m\u001b[0;34m)\u001b[0m\u001b[0;34m\u001b[0m\u001b[0;34m\u001b[0m\u001b[0m\n\u001b[0m\u001b[1;32m    530\u001b[0m         \u001b[0;32melif\u001b[0m \u001b[0misinstance\u001b[0m\u001b[0;34m(\u001b[0m\u001b[0mdata\u001b[0m\u001b[0;34m,\u001b[0m \u001b[0mma\u001b[0m\u001b[0;34m.\u001b[0m\u001b[0mMaskedArray\u001b[0m\u001b[0;34m)\u001b[0m\u001b[0;34m:\u001b[0m\u001b[0;34m\u001b[0m\u001b[0;34m\u001b[0m\u001b[0m\n\u001b[1;32m    531\u001b[0m             \u001b[0;32mimport\u001b[0m \u001b[0mnumpy\u001b[0m\u001b[0;34m.\u001b[0m\u001b[0mma\u001b[0m\u001b[0;34m.\u001b[0m\u001b[0mmrecords\u001b[0m \u001b[0;32mas\u001b[0m \u001b[0mmrecords\u001b[0m\u001b[0;34m\u001b[0m\u001b[0;34m\u001b[0m\u001b[0m\n",
      "\u001b[0;32m/Library/Frameworks/Python.framework/Versions/3.9/lib/python3.9/site-packages/pandas/core/internals/construction.py\u001b[0m in \u001b[0;36minit_dict\u001b[0;34m(data, index, columns, dtype)\u001b[0m\n\u001b[1;32m    285\u001b[0m             \u001b[0marr\u001b[0m \u001b[0;32mif\u001b[0m \u001b[0;32mnot\u001b[0m \u001b[0mis_datetime64tz_dtype\u001b[0m\u001b[0;34m(\u001b[0m\u001b[0marr\u001b[0m\u001b[0;34m)\u001b[0m \u001b[0;32melse\u001b[0m \u001b[0marr\u001b[0m\u001b[0;34m.\u001b[0m\u001b[0mcopy\u001b[0m\u001b[0;34m(\u001b[0m\u001b[0;34m)\u001b[0m \u001b[0;32mfor\u001b[0m \u001b[0marr\u001b[0m \u001b[0;32min\u001b[0m \u001b[0marrays\u001b[0m\u001b[0;34m\u001b[0m\u001b[0;34m\u001b[0m\u001b[0m\n\u001b[1;32m    286\u001b[0m         ]\n\u001b[0;32m--> 287\u001b[0;31m     \u001b[0;32mreturn\u001b[0m \u001b[0marrays_to_mgr\u001b[0m\u001b[0;34m(\u001b[0m\u001b[0marrays\u001b[0m\u001b[0;34m,\u001b[0m \u001b[0mdata_names\u001b[0m\u001b[0;34m,\u001b[0m \u001b[0mindex\u001b[0m\u001b[0;34m,\u001b[0m \u001b[0mcolumns\u001b[0m\u001b[0;34m,\u001b[0m \u001b[0mdtype\u001b[0m\u001b[0;34m=\u001b[0m\u001b[0mdtype\u001b[0m\u001b[0;34m)\u001b[0m\u001b[0;34m\u001b[0m\u001b[0;34m\u001b[0m\u001b[0m\n\u001b[0m\u001b[1;32m    288\u001b[0m \u001b[0;34m\u001b[0m\u001b[0m\n\u001b[1;32m    289\u001b[0m \u001b[0;34m\u001b[0m\u001b[0m\n",
      "\u001b[0;32m/Library/Frameworks/Python.framework/Versions/3.9/lib/python3.9/site-packages/pandas/core/internals/construction.py\u001b[0m in \u001b[0;36marrays_to_mgr\u001b[0;34m(arrays, arr_names, index, columns, dtype, verify_integrity)\u001b[0m\n\u001b[1;32m     78\u001b[0m         \u001b[0;31m# figure out the index, if necessary\u001b[0m\u001b[0;34m\u001b[0m\u001b[0;34m\u001b[0m\u001b[0;34m\u001b[0m\u001b[0m\n\u001b[1;32m     79\u001b[0m         \u001b[0;32mif\u001b[0m \u001b[0mindex\u001b[0m \u001b[0;32mis\u001b[0m \u001b[0;32mNone\u001b[0m\u001b[0;34m:\u001b[0m\u001b[0;34m\u001b[0m\u001b[0;34m\u001b[0m\u001b[0m\n\u001b[0;32m---> 80\u001b[0;31m             \u001b[0mindex\u001b[0m \u001b[0;34m=\u001b[0m \u001b[0mextract_index\u001b[0m\u001b[0;34m(\u001b[0m\u001b[0marrays\u001b[0m\u001b[0;34m)\u001b[0m\u001b[0;34m\u001b[0m\u001b[0;34m\u001b[0m\u001b[0m\n\u001b[0m\u001b[1;32m     81\u001b[0m         \u001b[0;32melse\u001b[0m\u001b[0;34m:\u001b[0m\u001b[0;34m\u001b[0m\u001b[0;34m\u001b[0m\u001b[0m\n\u001b[1;32m     82\u001b[0m             \u001b[0mindex\u001b[0m \u001b[0;34m=\u001b[0m \u001b[0mensure_index\u001b[0m\u001b[0;34m(\u001b[0m\u001b[0mindex\u001b[0m\u001b[0;34m)\u001b[0m\u001b[0;34m\u001b[0m\u001b[0;34m\u001b[0m\u001b[0m\n",
      "\u001b[0;32m/Library/Frameworks/Python.framework/Versions/3.9/lib/python3.9/site-packages/pandas/core/internals/construction.py\u001b[0m in \u001b[0;36mextract_index\u001b[0;34m(data)\u001b[0m\n\u001b[1;32m    399\u001b[0m             \u001b[0mlengths\u001b[0m \u001b[0;34m=\u001b[0m \u001b[0mlist\u001b[0m\u001b[0;34m(\u001b[0m\u001b[0mset\u001b[0m\u001b[0;34m(\u001b[0m\u001b[0mraw_lengths\u001b[0m\u001b[0;34m)\u001b[0m\u001b[0;34m)\u001b[0m\u001b[0;34m\u001b[0m\u001b[0;34m\u001b[0m\u001b[0m\n\u001b[1;32m    400\u001b[0m             \u001b[0;32mif\u001b[0m \u001b[0mlen\u001b[0m\u001b[0;34m(\u001b[0m\u001b[0mlengths\u001b[0m\u001b[0;34m)\u001b[0m \u001b[0;34m>\u001b[0m \u001b[0;36m1\u001b[0m\u001b[0;34m:\u001b[0m\u001b[0;34m\u001b[0m\u001b[0;34m\u001b[0m\u001b[0m\n\u001b[0;32m--> 401\u001b[0;31m                 \u001b[0;32mraise\u001b[0m \u001b[0mValueError\u001b[0m\u001b[0;34m(\u001b[0m\u001b[0;34m\"arrays must all be same length\"\u001b[0m\u001b[0;34m)\u001b[0m\u001b[0;34m\u001b[0m\u001b[0;34m\u001b[0m\u001b[0m\n\u001b[0m\u001b[1;32m    402\u001b[0m \u001b[0;34m\u001b[0m\u001b[0m\n\u001b[1;32m    403\u001b[0m             \u001b[0;32mif\u001b[0m \u001b[0mhave_dicts\u001b[0m\u001b[0;34m:\u001b[0m\u001b[0;34m\u001b[0m\u001b[0;34m\u001b[0m\u001b[0m\n",
      "\u001b[0;31mValueError\u001b[0m: arrays must all be same length"
     ]
    }
   ],
   "source": [
    "database = pd.DataFrame({'name':name, 'title':headline, 'description':description, 'reviews':reviews})\n",
    "database"
   ]
  },
  {
   "cell_type": "code",
   "execution_count": 107,
   "metadata": {},
   "outputs": [
    {
     "ename": "AttributeError",
     "evalue": "'int' object has no attribute 'get_text'",
     "output_type": "error",
     "traceback": [
      "\u001b[0;31m---------------------------------------------------------------------------\u001b[0m",
      "\u001b[0;31mAttributeError\u001b[0m                            Traceback (most recent call last)",
      "\u001b[0;32m<ipython-input-107-1b869fe431bf>\u001b[0m in \u001b[0;36m<module>\u001b[0;34m\u001b[0m\n\u001b[1;32m      6\u001b[0m \u001b[0;32mfor\u001b[0m \u001b[0mtitle\u001b[0m \u001b[0;32min\u001b[0m \u001b[0msoup\u001b[0m\u001b[0;34m.\u001b[0m\u001b[0mfind\u001b[0m\u001b[0;34m(\u001b[0m\u001b[0;34m'div'\u001b[0m\u001b[0;34m,\u001b[0m \u001b[0mattrs\u001b[0m\u001b[0;34m=\u001b[0m\u001b[0;34m{\u001b[0m\u001b[0;34m\"class\"\u001b[0m\u001b[0;34m:\u001b[0m\u001b[0;34m\"vitals\"\u001b[0m\u001b[0;34m}\u001b[0m\u001b[0;34m)\u001b[0m\u001b[0;34m:\u001b[0m\u001b[0;34m\u001b[0m\u001b[0;34m\u001b[0m\u001b[0m\n\u001b[1;32m      7\u001b[0m             \u001b[0mtitle\u001b[0m \u001b[0;34m=\u001b[0m \u001b[0mfoo\u001b[0m\u001b[0;34m.\u001b[0m\u001b[0mfind\u001b[0m\u001b[0;34m(\u001b[0m\u001b[0;34m'h1'\u001b[0m\u001b[0;34m)\u001b[0m\u001b[0;34m\u001b[0m\u001b[0;34m\u001b[0m\u001b[0m\n\u001b[0;32m----> 8\u001b[0;31m             \u001b[0mfoo\u001b[0m \u001b[0;34m=\u001b[0m \u001b[0mtitle\u001b[0m\u001b[0;34m.\u001b[0m\u001b[0mget_text\u001b[0m\u001b[0;34m(\u001b[0m\u001b[0mstrip\u001b[0m\u001b[0;34m=\u001b[0m\u001b[0;32mTrue\u001b[0m\u001b[0;34m)\u001b[0m\u001b[0;34m\u001b[0m\u001b[0;34m\u001b[0m\u001b[0m\n\u001b[0m\u001b[1;32m      9\u001b[0m             \u001b[0mheadline\u001b[0m\u001b[0;34m.\u001b[0m\u001b[0mappend\u001b[0m\u001b[0;34m(\u001b[0m\u001b[0mfoo\u001b[0m \u001b[0;34m+\u001b[0m \u001b[0;34m' '\u001b[0m\u001b[0;34m)\u001b[0m\u001b[0;34m\u001b[0m\u001b[0;34m\u001b[0m\u001b[0m\n\u001b[1;32m     10\u001b[0m \u001b[0;34m\u001b[0m\u001b[0m\n",
      "\u001b[0;31mAttributeError\u001b[0m: 'int' object has no attribute 'get_text'"
     ]
    }
   ],
   "source": [
    "headline = []\n",
    "url = 'https://distiller.com/spirits/' + 'dulce-vida-extra-anejo-tequila'\n",
    "response = requests.get(url)\n",
    "sleep(0.5) #sleep not to upset the website\n",
    "soup = BeautifulSoup(response.text, \"html5lib\")\n",
    "for title in soup.find('div', attrs={\"class\":\"vitals\"}):\n",
    "            title = foo.find('h1')\n",
    "            foo = title.get_text(strip=True)\n",
    "            headline.append(foo + ' ')\n",
    "\n",
    "headline"
   ]
  },
  {
   "cell_type": "code",
   "execution_count": 106,
   "metadata": {},
   "outputs": [
    {
     "data": {
      "text/plain": "'Dulce Vida Extra Añejo Tequila'"
     },
     "execution_count": 106,
     "metadata": {},
     "output_type": "execute_result"
    }
   ],
   "source": [
    "headline = []\n",
    "url = 'https://distiller.com/spirits/' + 'dulce-vida-extra-anejo-tequila'\n",
    "response = requests.get(url)\n",
    "sleep(0.5) #sleep not to upset the website\n",
    "soup = BeautifulSoup(response.text, \"html5lib\")\n",
    "foo = soup.find('div', attrs={\"class\":\"vitals\"})\n",
    "title = foo.find('h1')\n",
    "title.get_text(strip=True)"
   ]
  }
 ],
 "metadata": {
  "kernelspec": {
   "display_name": "Python 3.9.1 64-bit",
   "language": "python",
   "name": "python39164bit1403dc9b93394d8f9ff214505f33f4c3"
  },
  "language_info": {
   "codemirror_mode": {
    "name": "ipython",
    "version": 3
   },
   "file_extension": ".py",
   "mimetype": "text/x-python",
   "name": "python",
   "nbconvert_exporter": "python",
   "pygments_lexer": "ipython3",
   "version": "3.9.1"
  },
  "orig_nbformat": 2
 },
 "nbformat": 4,
 "nbformat_minor": 2
}